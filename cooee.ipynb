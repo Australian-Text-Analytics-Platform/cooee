{
 "cells": [
  {
   "cell_type": "code",
   "execution_count": 1,
   "metadata": {
    "pycharm": {
     "name": "#%%\n"
    }
   },
   "outputs": [],
   "source": [
    "%%capture\n",
    "import sys\n",
    "!{sys.executable} -m pip install -r requirements.txt"
   ]
  },
  {
   "cell_type": "code",
   "execution_count": 2,
   "metadata": {
    "pycharm": {
     "name": "#%%\n"
    }
   },
   "outputs": [],
   "source": [
    "import json                       # json library to read json file formats\n",
    "import requests                   # Uses the requests library for REST apis\n",
    "import os                         # Loads operating system libraries\n",
    "from ldaca.ldaca import LDaCA     # Loads the LDaCA ReST api wrapper\n",
    "from rocrate_lang.utils import as_list # A handy utility for converting to list"
   ]
  },
  {
   "cell_type": "code",
   "execution_count": 3,
   "metadata": {
    "pycharm": {
     "name": "#%%\n"
    }
   },
   "outputs": [],
   "source": [
    "# Specify location where collection is\n",
    "LDACA_API = 'https://data.atap.edu.au/api'\n",
    "COLLECTION_ID = 'arcp://name,cooee-corpus/corpus/root'\n",
    "\n",
    "from dotenv import load_dotenv    # loads environment variables\n",
    "load_dotenv('vars.env') # load the environment variables located in the vars.env files\n",
    "API_TOKEN = os.getenv('API_KEY') # store your environment variable in this jupyter notebook\n",
    "if not API_TOKEN:\n",
    "    print(\"Get a token from the portal, set a variable in the vars.env file named API_KEY, then restart the kernel.\")\n"
   ]
  },
  {
   "cell_type": "code",
   "execution_count": 4,
   "outputs": [],
   "source": [
    "# Get the ro-crate metadata\n",
    "\n",
    "ldaca = LDaCA(url=LDACA_API, token=API_TOKEN, data_dir='data')\n",
    "ldaca.retrieve_collection(collection=COLLECTION_ID, collection_type='Collection', data_dir='data')\n"
   ],
   "metadata": {
    "collapsed": false,
    "pycharm": {
     "name": "#%%\n"
    }
   }
  },
  {
   "cell_type": "code",
   "execution_count": 5,
   "outputs": [
    {
     "data": {
      "text/plain": "<rocrate_lang.rocrate_plus.ROCratePlus at 0x7f9ed819a3d0>"
     },
     "execution_count": 5,
     "metadata": {},
     "output_type": "execute_result"
    }
   ],
   "source": [
    "metadata = ldaca.crate\n",
    "\n",
    "# Inspect the metadata\n",
    "metadata"
   ],
   "metadata": {
    "collapsed": false,
    "pycharm": {
     "name": "#%%\n"
    }
   }
  },
  {
   "cell_type": "code",
   "execution_count": 6,
   "outputs": [],
   "source": [
    "# TYPE values should be lists.\n",
    "# We define a PRIMARY_OBJECT as a 'RepositoryObject' because that is where the main data is stored\n",
    "PRIMARY_OBJECT = 'RepositoryObject'"
   ],
   "metadata": {
    "collapsed": false,
    "pycharm": {
     "name": "#%%\n"
    }
   }
  },
  {
   "cell_type": "code",
   "execution_count": 7,
   "outputs": [],
   "source": [
    "# Find all types and find types that have linked objects\n",
    "files = set()\n",
    "types = list()\n",
    "primary_object_types = list()\n",
    "\n",
    "# Lets see what we can find in our metadata\n",
    "for entity in ldaca.crate.contextual_entities + ldaca.crate.data_entities:\n",
    "    entity_type = as_list(entity.type)  # We make sure that each type is a list\n",
    "    for e_t in entity_type:\n",
    "        types.append(e_t)\n"
   ],
   "metadata": {
    "collapsed": false,
    "pycharm": {
     "name": "#%%\n"
    }
   }
  },
  {
   "cell_type": "code",
   "execution_count": 8,
   "outputs": [
    {
     "data": {
      "text/plain": "['OrganizationReuseLicense',\n 'Book',\n 'website',\n 'Person',\n 'DefinedTerm',\n 'CreativeWork',\n 'Language',\n 'PrimaryText',\n 'RepositoryObject',\n 'PropertyValue',\n 'SoftwareSourceCode',\n 'CreateAction',\n 'File',\n 'DerivedMaterial']"
     },
     "execution_count": 8,
     "metadata": {},
     "output_type": "execute_result"
    }
   ],
   "source": [
    "# Print the variables\n",
    "# All the types, removing duplicates\n",
    "list(dict.fromkeys(types))"
   ],
   "metadata": {
    "collapsed": false,
    "pycharm": {
     "name": "#%%\n"
    }
   }
  },
  {
   "cell_type": "code",
   "execution_count": 9,
   "outputs": [],
   "source": [
    "# Types of PRIMARY_OBJECTs ie [PRIMARY_OBJECT, X]. What kinds of Xs do we have?\n",
    "for entity in ldaca.crate.contextual_entities + ldaca.crate.data_entities:\n",
    "    if 'RepositoryObject' in as_list(entity.type):\n",
    "        item = ldaca.crate.dereference(entity.id)\n",
    "        primary_object_types.append(item.as_jsonld())"
   ],
   "metadata": {
    "collapsed": false,
    "pycharm": {
     "name": "#%%\n"
    }
   }
  },
  {
   "cell_type": "code",
   "execution_count": 10,
   "outputs": [
    {
     "data": {
      "text/plain": "                                      @id             @type  \\\n0     arcp://name,cooee-corpus/item/1-001  RepositoryObject   \n1     arcp://name,cooee-corpus/item/1-002  RepositoryObject   \n2     arcp://name,cooee-corpus/item/1-003  RepositoryObject   \n3     arcp://name,cooee-corpus/item/1-004  RepositoryObject   \n4     arcp://name,cooee-corpus/item/1-005  RepositoryObject   \n...                                   ...               ...   \n1352  arcp://name,cooee-corpus/item/4-421  RepositoryObject   \n1353  arcp://name,cooee-corpus/item/4-422  RepositoryObject   \n1354  arcp://name,cooee-corpus/item/4-423  RepositoryObject   \n1355  arcp://name,cooee-corpus/item/4-424  RepositoryObject   \n1356  arcp://name,cooee-corpus/item/4-425  RepositoryObject   \n\n                                           name dateCreated  \\\n0               Text 1-001 1788 Phillip, Arthur        1788   \n1               Text 1-002 1788 Phillip, Arthur        1788   \n2               Text 1-003 1788 Phillip, Arthur        1788   \n3               Text 1-004 1788 Phillip, Arthur        1788   \n4               Text 1-005 1788 Phillip, Arthur        1788   \n...                                         ...         ...   \n1352             Text 4-421 1897 Turner, George        1897   \n1353         Text 4-422 1898 Lyne, William John        1898   \n1354       Text 4-423 1898 Downer, John William        1898   \n1355  Text 4-424 1898 Kingston, Charles Cameron        1898   \n1356    Text 4-425 1895 Paterson, Andrew Barton        1895   \n\n                                                hasPart  \\\n0     [{'@id': 'https://data.atap.edu.au/api/stream?...   \n1     [{'@id': 'https://data.atap.edu.au/api/stream?...   \n2     [{'@id': 'https://data.atap.edu.au/api/stream?...   \n3     [{'@id': 'https://data.atap.edu.au/api/stream?...   \n4     [{'@id': 'https://data.atap.edu.au/api/stream?...   \n...                                                 ...   \n1352  [{'@id': 'https://data.atap.edu.au/api/stream?...   \n1353  [{'@id': 'https://data.atap.edu.au/api/stream?...   \n1354  [{'@id': 'https://data.atap.edu.au/api/stream?...   \n1355  [{'@id': 'https://data.atap.edu.au/api/stream?...   \n1356  [{'@id': 'https://data.atap.edu.au/api/stream?...   \n\n                                         conformsTo.@id  \\\n0     https://purl.archive.org/textcommons/profile#O...   \n1     https://purl.archive.org/textcommons/profile#O...   \n2     https://purl.archive.org/textcommons/profile#O...   \n3     https://purl.archive.org/textcommons/profile#O...   \n4     https://purl.archive.org/textcommons/profile#O...   \n...                                                 ...   \n1352  https://purl.archive.org/textcommons/profile#O...   \n1353  https://purl.archive.org/textcommons/profile#O...   \n1354  https://purl.archive.org/textcommons/profile#O...   \n1355  https://purl.archive.org/textcommons/profile#O...   \n1356  https://purl.archive.org/textcommons/profile#O...   \n\n                                             author.@id   register.@id  \\\n0     arcp://name,cooee-corpus/author/Phillip_Arthur...  #register_PrW   \n1     arcp://name,cooee-corpus/author/Phillip_Arthur...   #register_GE   \n2     arcp://name,cooee-corpus/author/Phillip_Arthur...   #register_GE   \n3     arcp://name,cooee-corpus/author/Phillip_Arthur...   #register_GE   \n4     arcp://name,cooee-corpus/author/Phillip_Arthur...   #register_GE   \n...                                                 ...            ...   \n1352  arcp://name,cooee-corpus/author/Turner_George-...   #register_SB   \n1353  arcp://name,cooee-corpus/author/Lyne_William J...   #register_SB   \n1354  arcp://name,cooee-corpus/author/Downer_John Wi...   #register_SB   \n1355  arcp://name,cooee-corpus/author/Kingston_Charl...   #register_SB   \n1356  arcp://name,cooee-corpus/author/Paterson_Andre...  #register_PcW   \n\n     linguisticGenre.@id                                       citation.@id  \\\n0          #register_PrW      arcp://name,cooee-corpus/work/Niall1998p10-11   \n1           #register_GE      arcp://name,cooee-corpus/work/Niall1998p12-13   \n2           #register_GE      arcp://name,cooee-corpus/work/Clark1977p44-46   \n3           #register_GE      arcp://name,cooee-corpus/work/Clark1977p47-48   \n4           #register_GE         arcp://name,cooee-corpus/work/Clark1977p52   \n...                  ...                                                ...   \n1352        #register_SB  arcp://name,cooee-corpus/work/Federation_Debat...   \n1353        #register_SB  arcp://name,cooee-corpus/work/Federation_Debat...   \n1354        #register_SB  arcp://name,cooee-corpus/work/Federation_Debat...   \n1355        #register_SB  arcp://name,cooee-corpus/work/Federation_Debat...   \n1356       #register_PcW       arcp://name,cooee-corpus/work/Paterson1895px   \n\n         modality.@id                             language.@id  \\\n0     txc:Orthography  https://www.ethnologue.com/language/eng   \n1     txc:Orthography  https://www.ethnologue.com/language/eng   \n2     txc:Orthography  https://www.ethnologue.com/language/eng   \n3     txc:Orthography  https://www.ethnologue.com/language/eng   \n4     txc:Orthography  https://www.ethnologue.com/language/eng   \n...               ...                                      ...   \n1352  txc:Orthography  https://www.ethnologue.com/language/eng   \n1353  txc:Orthography  https://www.ethnologue.com/language/eng   \n1354  txc:Orthography  https://www.ethnologue.com/language/eng   \n1355  txc:Orthography  https://www.ethnologue.com/language/eng   \n1356  txc:Orthography  https://www.ethnologue.com/language/eng   \n\n                                      indexableText.@id  \\\n0     https://data.atap.edu.au/api/stream?id=arcp://...   \n1     https://data.atap.edu.au/api/stream?id=arcp://...   \n2     https://data.atap.edu.au/api/stream?id=arcp://...   \n3     https://data.atap.edu.au/api/stream?id=arcp://...   \n4     https://data.atap.edu.au/api/stream?id=arcp://...   \n...                                                 ...   \n1352  https://data.atap.edu.au/api/stream?id=arcp://...   \n1353  https://data.atap.edu.au/api/stream?id=arcp://...   \n1354  https://data.atap.edu.au/api/stream?id=arcp://...   \n1355  https://data.atap.edu.au/api/stream?id=arcp://...   \n1356  https://data.atap.edu.au/api/stream?id=arcp://...   \n\n                                     @reverse.hasMember  \n0     [{'@id': 'arcp://name,cooee-corpus/corpus/root...  \n1     [{'@id': 'arcp://name,cooee-corpus/corpus/root...  \n2     [{'@id': 'arcp://name,cooee-corpus/corpus/root...  \n3     [{'@id': 'arcp://name,cooee-corpus/corpus/root...  \n4     [{'@id': 'arcp://name,cooee-corpus/corpus/root...  \n...                                                 ...  \n1352  [{'@id': 'arcp://name,cooee-corpus/corpus/root...  \n1353  [{'@id': 'arcp://name,cooee-corpus/corpus/root...  \n1354  [{'@id': 'arcp://name,cooee-corpus/corpus/root...  \n1355  [{'@id': 'arcp://name,cooee-corpus/corpus/root...  \n1356  [{'@id': 'arcp://name,cooee-corpus/corpus/root...  \n\n[1357 rows x 14 columns]",
      "text/html": "<div>\n<style scoped>\n    .dataframe tbody tr th:only-of-type {\n        vertical-align: middle;\n    }\n\n    .dataframe tbody tr th {\n        vertical-align: top;\n    }\n\n    .dataframe thead th {\n        text-align: right;\n    }\n</style>\n<table border=\"1\" class=\"dataframe\">\n  <thead>\n    <tr style=\"text-align: right;\">\n      <th></th>\n      <th>@id</th>\n      <th>@type</th>\n      <th>name</th>\n      <th>dateCreated</th>\n      <th>hasPart</th>\n      <th>conformsTo.@id</th>\n      <th>author.@id</th>\n      <th>register.@id</th>\n      <th>linguisticGenre.@id</th>\n      <th>citation.@id</th>\n      <th>modality.@id</th>\n      <th>language.@id</th>\n      <th>indexableText.@id</th>\n      <th>@reverse.hasMember</th>\n    </tr>\n  </thead>\n  <tbody>\n    <tr>\n      <th>0</th>\n      <td>arcp://name,cooee-corpus/item/1-001</td>\n      <td>RepositoryObject</td>\n      <td>Text 1-001 1788 Phillip, Arthur</td>\n      <td>1788</td>\n      <td>[{'@id': 'https://data.atap.edu.au/api/stream?...</td>\n      <td>https://purl.archive.org/textcommons/profile#O...</td>\n      <td>arcp://name,cooee-corpus/author/Phillip_Arthur...</td>\n      <td>#register_PrW</td>\n      <td>#register_PrW</td>\n      <td>arcp://name,cooee-corpus/work/Niall1998p10-11</td>\n      <td>txc:Orthography</td>\n      <td>https://www.ethnologue.com/language/eng</td>\n      <td>https://data.atap.edu.au/api/stream?id=arcp://...</td>\n      <td>[{'@id': 'arcp://name,cooee-corpus/corpus/root...</td>\n    </tr>\n    <tr>\n      <th>1</th>\n      <td>arcp://name,cooee-corpus/item/1-002</td>\n      <td>RepositoryObject</td>\n      <td>Text 1-002 1788 Phillip, Arthur</td>\n      <td>1788</td>\n      <td>[{'@id': 'https://data.atap.edu.au/api/stream?...</td>\n      <td>https://purl.archive.org/textcommons/profile#O...</td>\n      <td>arcp://name,cooee-corpus/author/Phillip_Arthur...</td>\n      <td>#register_GE</td>\n      <td>#register_GE</td>\n      <td>arcp://name,cooee-corpus/work/Niall1998p12-13</td>\n      <td>txc:Orthography</td>\n      <td>https://www.ethnologue.com/language/eng</td>\n      <td>https://data.atap.edu.au/api/stream?id=arcp://...</td>\n      <td>[{'@id': 'arcp://name,cooee-corpus/corpus/root...</td>\n    </tr>\n    <tr>\n      <th>2</th>\n      <td>arcp://name,cooee-corpus/item/1-003</td>\n      <td>RepositoryObject</td>\n      <td>Text 1-003 1788 Phillip, Arthur</td>\n      <td>1788</td>\n      <td>[{'@id': 'https://data.atap.edu.au/api/stream?...</td>\n      <td>https://purl.archive.org/textcommons/profile#O...</td>\n      <td>arcp://name,cooee-corpus/author/Phillip_Arthur...</td>\n      <td>#register_GE</td>\n      <td>#register_GE</td>\n      <td>arcp://name,cooee-corpus/work/Clark1977p44-46</td>\n      <td>txc:Orthography</td>\n      <td>https://www.ethnologue.com/language/eng</td>\n      <td>https://data.atap.edu.au/api/stream?id=arcp://...</td>\n      <td>[{'@id': 'arcp://name,cooee-corpus/corpus/root...</td>\n    </tr>\n    <tr>\n      <th>3</th>\n      <td>arcp://name,cooee-corpus/item/1-004</td>\n      <td>RepositoryObject</td>\n      <td>Text 1-004 1788 Phillip, Arthur</td>\n      <td>1788</td>\n      <td>[{'@id': 'https://data.atap.edu.au/api/stream?...</td>\n      <td>https://purl.archive.org/textcommons/profile#O...</td>\n      <td>arcp://name,cooee-corpus/author/Phillip_Arthur...</td>\n      <td>#register_GE</td>\n      <td>#register_GE</td>\n      <td>arcp://name,cooee-corpus/work/Clark1977p47-48</td>\n      <td>txc:Orthography</td>\n      <td>https://www.ethnologue.com/language/eng</td>\n      <td>https://data.atap.edu.au/api/stream?id=arcp://...</td>\n      <td>[{'@id': 'arcp://name,cooee-corpus/corpus/root...</td>\n    </tr>\n    <tr>\n      <th>4</th>\n      <td>arcp://name,cooee-corpus/item/1-005</td>\n      <td>RepositoryObject</td>\n      <td>Text 1-005 1788 Phillip, Arthur</td>\n      <td>1788</td>\n      <td>[{'@id': 'https://data.atap.edu.au/api/stream?...</td>\n      <td>https://purl.archive.org/textcommons/profile#O...</td>\n      <td>arcp://name,cooee-corpus/author/Phillip_Arthur...</td>\n      <td>#register_GE</td>\n      <td>#register_GE</td>\n      <td>arcp://name,cooee-corpus/work/Clark1977p52</td>\n      <td>txc:Orthography</td>\n      <td>https://www.ethnologue.com/language/eng</td>\n      <td>https://data.atap.edu.au/api/stream?id=arcp://...</td>\n      <td>[{'@id': 'arcp://name,cooee-corpus/corpus/root...</td>\n    </tr>\n    <tr>\n      <th>...</th>\n      <td>...</td>\n      <td>...</td>\n      <td>...</td>\n      <td>...</td>\n      <td>...</td>\n      <td>...</td>\n      <td>...</td>\n      <td>...</td>\n      <td>...</td>\n      <td>...</td>\n      <td>...</td>\n      <td>...</td>\n      <td>...</td>\n      <td>...</td>\n    </tr>\n    <tr>\n      <th>1352</th>\n      <td>arcp://name,cooee-corpus/item/4-421</td>\n      <td>RepositoryObject</td>\n      <td>Text 4-421 1897 Turner, George</td>\n      <td>1897</td>\n      <td>[{'@id': 'https://data.atap.edu.au/api/stream?...</td>\n      <td>https://purl.archive.org/textcommons/profile#O...</td>\n      <td>arcp://name,cooee-corpus/author/Turner_George-...</td>\n      <td>#register_SB</td>\n      <td>#register_SB</td>\n      <td>arcp://name,cooee-corpus/work/Federation_Debat...</td>\n      <td>txc:Orthography</td>\n      <td>https://www.ethnologue.com/language/eng</td>\n      <td>https://data.atap.edu.au/api/stream?id=arcp://...</td>\n      <td>[{'@id': 'arcp://name,cooee-corpus/corpus/root...</td>\n    </tr>\n    <tr>\n      <th>1353</th>\n      <td>arcp://name,cooee-corpus/item/4-422</td>\n      <td>RepositoryObject</td>\n      <td>Text 4-422 1898 Lyne, William John</td>\n      <td>1898</td>\n      <td>[{'@id': 'https://data.atap.edu.au/api/stream?...</td>\n      <td>https://purl.archive.org/textcommons/profile#O...</td>\n      <td>arcp://name,cooee-corpus/author/Lyne_William J...</td>\n      <td>#register_SB</td>\n      <td>#register_SB</td>\n      <td>arcp://name,cooee-corpus/work/Federation_Debat...</td>\n      <td>txc:Orthography</td>\n      <td>https://www.ethnologue.com/language/eng</td>\n      <td>https://data.atap.edu.au/api/stream?id=arcp://...</td>\n      <td>[{'@id': 'arcp://name,cooee-corpus/corpus/root...</td>\n    </tr>\n    <tr>\n      <th>1354</th>\n      <td>arcp://name,cooee-corpus/item/4-423</td>\n      <td>RepositoryObject</td>\n      <td>Text 4-423 1898 Downer, John William</td>\n      <td>1898</td>\n      <td>[{'@id': 'https://data.atap.edu.au/api/stream?...</td>\n      <td>https://purl.archive.org/textcommons/profile#O...</td>\n      <td>arcp://name,cooee-corpus/author/Downer_John Wi...</td>\n      <td>#register_SB</td>\n      <td>#register_SB</td>\n      <td>arcp://name,cooee-corpus/work/Federation_Debat...</td>\n      <td>txc:Orthography</td>\n      <td>https://www.ethnologue.com/language/eng</td>\n      <td>https://data.atap.edu.au/api/stream?id=arcp://...</td>\n      <td>[{'@id': 'arcp://name,cooee-corpus/corpus/root...</td>\n    </tr>\n    <tr>\n      <th>1355</th>\n      <td>arcp://name,cooee-corpus/item/4-424</td>\n      <td>RepositoryObject</td>\n      <td>Text 4-424 1898 Kingston, Charles Cameron</td>\n      <td>1898</td>\n      <td>[{'@id': 'https://data.atap.edu.au/api/stream?...</td>\n      <td>https://purl.archive.org/textcommons/profile#O...</td>\n      <td>arcp://name,cooee-corpus/author/Kingston_Charl...</td>\n      <td>#register_SB</td>\n      <td>#register_SB</td>\n      <td>arcp://name,cooee-corpus/work/Federation_Debat...</td>\n      <td>txc:Orthography</td>\n      <td>https://www.ethnologue.com/language/eng</td>\n      <td>https://data.atap.edu.au/api/stream?id=arcp://...</td>\n      <td>[{'@id': 'arcp://name,cooee-corpus/corpus/root...</td>\n    </tr>\n    <tr>\n      <th>1356</th>\n      <td>arcp://name,cooee-corpus/item/4-425</td>\n      <td>RepositoryObject</td>\n      <td>Text 4-425 1895 Paterson, Andrew Barton</td>\n      <td>1895</td>\n      <td>[{'@id': 'https://data.atap.edu.au/api/stream?...</td>\n      <td>https://purl.archive.org/textcommons/profile#O...</td>\n      <td>arcp://name,cooee-corpus/author/Paterson_Andre...</td>\n      <td>#register_PcW</td>\n      <td>#register_PcW</td>\n      <td>arcp://name,cooee-corpus/work/Paterson1895px</td>\n      <td>txc:Orthography</td>\n      <td>https://www.ethnologue.com/language/eng</td>\n      <td>https://data.atap.edu.au/api/stream?id=arcp://...</td>\n      <td>[{'@id': 'arcp://name,cooee-corpus/corpus/root...</td>\n    </tr>\n  </tbody>\n</table>\n<p>1357 rows � 14 columns</p>\n</div>"
     },
     "execution_count": 10,
     "metadata": {},
     "output_type": "execute_result"
    }
   ],
   "source": [
    "import pandas as pd  # this means we will refer to pandas as 'pd' throughout the code\n",
    "\n",
    "primary_objects_dataframe = pd.json_normalize(primary_object_types)\n",
    "primary_objects_dataframe"
   ],
   "metadata": {
    "collapsed": false,
    "pycharm": {
     "name": "#%%\n"
    }
   }
  },
  {
   "cell_type": "code",
   "execution_count": 12,
   "outputs": [
    {
     "name": "stdout",
     "output_type": "stream",
     "text": [
      "2714 files\n"
     ]
    },
    {
     "data": {
      "text/plain": "[<https://data.atap.edu.au/api/stream?id=arcp://name,cooee-corpus/corpus/root&path=data/4-049-plain.txt ['File', 'DerivedMaterial']>,\n <https://data.atap.edu.au/api/stream?id=arcp://name,cooee-corpus/corpus/root&path=data/2-251.txt ['File', 'DerivedMaterial']>,\n <https://data.atap.edu.au/api/stream?id=arcp://name,cooee-corpus/corpus/root&path=data/3-096.txt ['File', 'DerivedMaterial']>,\n <https://data.atap.edu.au/api/stream?id=arcp://name,cooee-corpus/corpus/root&path=data/3-282-plain.txt ['File', 'DerivedMaterial']>,\n <https://data.atap.edu.au/api/stream?id=arcp://name,cooee-corpus/corpus/root&path=data/1-115.txt ['File', 'DerivedMaterial']>,\n <https://data.atap.edu.au/api/stream?id=arcp://name,cooee-corpus/corpus/root&path=data/4-085-plain.txt ['File', 'DerivedMaterial']>,\n <https://data.atap.edu.au/api/stream?id=arcp://name,cooee-corpus/corpus/root&path=data/4-317-plain.txt ['File', 'DerivedMaterial']>,\n <https://data.atap.edu.au/api/stream?id=arcp://name,cooee-corpus/corpus/root&path=data/1-101-plain.txt ['File', 'DerivedMaterial']>,\n <https://data.atap.edu.au/api/stream?id=arcp://name,cooee-corpus/corpus/root&path=data/1-028.txt ['File', 'DerivedMaterial']>,\n <https://data.atap.edu.au/api/stream?id=arcp://name,cooee-corpus/corpus/root&path=data/3-218-plain.txt ['File', 'DerivedMaterial']>,\n <https://data.atap.edu.au/api/stream?id=arcp://name,cooee-corpus/corpus/root&path=data/2-052-plain.txt ['File', 'DerivedMaterial']>,\n <https://data.atap.edu.au/api/stream?id=arcp://name,cooee-corpus/corpus/root&path=data/1-116.txt ['File', 'DerivedMaterial']>,\n <https://data.atap.edu.au/api/stream?id=arcp://name,cooee-corpus/corpus/root&path=data/3-128.txt ['File', 'DerivedMaterial']>,\n <https://data.atap.edu.au/api/stream?id=arcp://name,cooee-corpus/corpus/root&path=data/2-321.txt ['File', 'DerivedMaterial']>,\n <https://data.atap.edu.au/api/stream?id=arcp://name,cooee-corpus/corpus/root&path=data/4-031-plain.txt ['File', 'DerivedMaterial']>,\n <https://data.atap.edu.au/api/stream?id=arcp://name,cooee-corpus/corpus/root&path=data/2-295-plain.txt ['File', 'DerivedMaterial']>,\n <https://data.atap.edu.au/api/stream?id=arcp://name,cooee-corpus/corpus/root&path=data/4-070-plain.txt ['File', 'DerivedMaterial']>,\n <https://data.atap.edu.au/api/stream?id=arcp://name,cooee-corpus/corpus/root&path=data/4-388.txt ['File', 'DerivedMaterial']>,\n <https://data.atap.edu.au/api/stream?id=arcp://name,cooee-corpus/corpus/root&path=data/3-091.txt ['File', 'DerivedMaterial']>,\n <https://data.atap.edu.au/api/stream?id=arcp://name,cooee-corpus/corpus/root&path=data/4-299-plain.txt ['File', 'DerivedMaterial']>]"
     },
     "execution_count": 12,
     "metadata": {},
     "output_type": "execute_result"
    }
   ],
   "source": [
    "# Types of File that are in each primary object. What kinds of files do we have?\n",
    "for entity in primary_object_types:\n",
    "    if 'hasPart' in entity:\n",
    "        hasPart = entity.get('hasPart')\n",
    "        for part in as_list(hasPart):\n",
    "            file = ldaca.crate.dereference(part.get('@id'))\n",
    "            files.add(file)\n",
    "print(f\"{len(files)} files\")\n",
    "list(files)[:20]"
   ],
   "metadata": {
    "collapsed": false,
    "pycharm": {
     "name": "#%%\n"
    }
   }
  },
  {
   "cell_type": "code",
   "execution_count": null,
   "outputs": [],
   "source": [
    "annotations = set()\n",
    "texts = list()\n",
    "\n",
    "# pick out the annotation files\n",
    "for file in files:\n",
    "    if 'DerivedMaterial' in as_list(file.type):\n",
    "        annotations.add(file)\n",
    "\n",
    "# from this annotations select only the CSVs\n",
    "\n",
    "for annotation in annotations:\n",
    "    if annotation.get('encodingFormat') == 'text/plain':\n",
    "        selected_file_json = annotation.as_jsonld()\n",
    "        texts.append(selected_file_json)\n",
    "\n",
    "\n",
    "print(f\"We have {len(texts)} text objects\")"
   ],
   "metadata": {
    "collapsed": false,
    "pycharm": {
     "name": "#%%\n"
    }
   }
  },
  {
   "cell_type": "code",
   "execution_count": null,
   "outputs": [],
   "source": [
    "text = texts[1:2]\n",
    "print(json.dumps(text, indent=2, sort_keys=False))"
   ],
   "metadata": {
    "collapsed": false,
    "pycharm": {
     "name": "#%%\n"
    }
   }
  },
  {
   "cell_type": "markdown",
   "source": [
    "# Sample of one entry"
   ],
   "metadata": {
    "collapsed": false,
    "pycharm": {
     "name": "#%% md\n"
    }
   }
  },
  {
   "cell_type": "code",
   "execution_count": null,
   "outputs": [],
   "source": [
    "url = text[0][\"@id\"]\n",
    "url"
   ],
   "metadata": {
    "collapsed": false,
    "pycharm": {
     "name": "#%%\n"
    }
   }
  },
  {
   "cell_type": "markdown",
   "source": [
    "# Downloading a file from the ReST API"
   ],
   "metadata": {
    "collapsed": false,
    "pycharm": {
     "name": "#%% md\n"
    }
   }
  },
  {
   "cell_type": "code",
   "execution_count": null,
   "outputs": [],
   "source": [
    "import requests\n",
    "\n",
    "headers = {\"Authorization\": \"Bearer %s\" % API_TOKEN}\n",
    "response = requests.get(url=url, headers=headers)\n",
    "\n",
    "print(response.text)\n"
   ],
   "metadata": {
    "collapsed": false
   }
  }
 ],
 "metadata": {
  "title": "cooee notebook",
  "description": "A sample notebook for the cooee data",
  "input": "arcp://name,cooee-corpus/corpus/root",
  "kernelspec": {
   "name": "venv",
   "language": "python",
   "display_name": "venv"
  },
  "language_info": {
   "codemirror_mode": {
    "name": "ipython",
    "version": 3
   },
   "file_extension": ".py",
   "mimetype": "text/x-python",
   "name": "python",
   "nbconvert_exporter": "python",
   "pygments_lexer": "ipython3",
   "version": "3.9.12"
  }
 },
 "nbformat": 4,
 "nbformat_minor": 1
}
