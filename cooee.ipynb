{
 "cells": [
  {
   "cell_type": "code",
   "execution_count": null,
   "metadata": {
    "pycharm": {
     "name": "#%%\n"
    }
   },
   "outputs": [],
   "source": [
    "%%capture\n",
    "import sys\n",
    "!{sys.executable} -m pip install -r requirements.txt"
   ]
  },
  {
   "cell_type": "code",
   "execution_count": null,
   "metadata": {
    "pycharm": {
     "name": "#%%\n"
    }
   },
   "outputs": [],
   "source": [
    "import json                       # json library to read json file formats\n",
    "import requests                   # Uses the requests library for REST apis\n",
    "import os                         # Loads operating system libraries\n",
    "from ldaca.ldaca import LDaCA     # Loads the LDaCA ReST api wrapper\n",
    "from rocrate_lang.utils import as_list # A handy utility for converting to list"
   ]
  },
  {
   "cell_type": "code",
   "execution_count": null,
   "metadata": {
    "pycharm": {
     "name": "#%%\n"
    }
   },
   "outputs": [],
   "source": [
    "# Specify location where collection is\n",
    "LDACA_API = 'https://data.ldaca.edu.au/api'\n",
    "COLLECTION_ID = 'arcp://name,doi10.26180%2F23961609'\n",
    "\n",
    "from dotenv import load_dotenv    # loads environment variables\n",
    "load_dotenv('vars.env') # load the environment variables located in the vars.env files\n",
    "API_TOKEN = os.getenv('API_KEY') # store your environment variable in this jupyter notebook\n",
    "if not API_TOKEN:\n",
    "    print(\"Get a token from the portal, set a variable in the vars.env file named API_KEY, then restart the kernel.\")\n"
   ]
  },
  {
   "cell_type": "code",
   "execution_count": null,
   "metadata": {
    "collapsed": false,
    "pycharm": {
     "name": "#%%\n"
    }
   },
   "outputs": [],
   "source": [
    "# Get the ro-crate metadata\n",
    "\n",
    "ldaca = LDaCA(url=LDACA_API, token=API_TOKEN, data_dir='data')\n",
    "ldaca.retrieve_collection(collection=COLLECTION_ID, collection_type='Collection', data_dir='data')\n"
   ]
  },
  {
   "cell_type": "code",
   "execution_count": null,
   "metadata": {
    "collapsed": false,
    "pycharm": {
     "name": "#%%\n"
    }
   },
   "outputs": [],
   "source": [
    "metadata = ldaca.crate\n",
    "\n",
    "# Inspect the metadata\n",
    "metadata"
   ]
  },
  {
   "cell_type": "code",
   "execution_count": null,
   "metadata": {
    "collapsed": false,
    "pycharm": {
     "name": "#%%\n"
    }
   },
   "outputs": [],
   "source": [
    "# TYPE values should be lists.\n",
    "# We define a PRIMARY_OBJECT as a 'RepositoryObject' because that is where the main data is stored\n",
    "PRIMARY_OBJECT = 'RepositoryObject'"
   ]
  },
  {
   "cell_type": "code",
   "execution_count": null,
   "metadata": {
    "collapsed": false,
    "pycharm": {
     "name": "#%%\n"
    }
   },
   "outputs": [],
   "source": [
    "# Find all types and find types that have linked objects\n",
    "files = set()\n",
    "types = list()\n",
    "primary_object_types = list()\n",
    "\n",
    "# Lets see what we can find in our metadata\n",
    "for entity in ldaca.crate.contextual_entities + ldaca.crate.data_entities:\n",
    "    entity_type = as_list(entity.type)  # We make sure that each type is a list\n",
    "    for e_t in entity_type:\n",
    "        types.append(e_t)\n"
   ]
  },
  {
   "cell_type": "code",
   "execution_count": null,
   "metadata": {
    "collapsed": false,
    "pycharm": {
     "name": "#%%\n"
    }
   },
   "outputs": [],
   "source": [
    "# Print the variables\n",
    "# All the types, removing duplicates\n",
    "list(dict.fromkeys(types))"
   ]
  },
  {
   "cell_type": "code",
   "execution_count": null,
   "metadata": {
    "collapsed": false,
    "pycharm": {
     "name": "#%%\n"
    }
   },
   "outputs": [],
   "source": [
    "# Types of PRIMARY_OBJECTs ie [PRIMARY_OBJECT, X]. What kinds of Xs do we have?\n",
    "for entity in ldaca.crate.contextual_entities + ldaca.crate.data_entities:\n",
    "    if 'RepositoryObject' in as_list(entity.type):\n",
    "        item = ldaca.crate.dereference(entity.id)\n",
    "        primary_object_types.append(item.as_jsonld())"
   ]
  },
  {
   "cell_type": "code",
   "execution_count": null,
   "metadata": {
    "collapsed": false,
    "pycharm": {
     "name": "#%%\n"
    }
   },
   "outputs": [],
   "source": [
    "import pandas as pd  # this means we will refer to pandas as 'pd' throughout the code\n",
    "\n",
    "primary_objects_dataframe = pd.json_normalize(primary_object_types)\n",
    "primary_objects_dataframe"
   ]
  },
  {
   "cell_type": "code",
   "execution_count": null,
   "metadata": {
    "collapsed": false,
    "pycharm": {
     "name": "#%%\n"
    }
   },
   "outputs": [],
   "source": [
    "# Types of File that are in each primary object. What kinds of files do we have?\n",
    "for entity in primary_object_types:\n",
    "    if 'hasPart' in entity:\n",
    "        hasPart = entity.get('hasPart')\n",
    "        for part in as_list(hasPart):\n",
    "            file = ldaca.crate.dereference(part.get('@id'))\n",
    "            files.add(file)\n",
    "print(f\"{len(files)} files\")\n",
    "list(files)[:20]"
   ]
  },
  {
   "cell_type": "code",
   "execution_count": null,
   "metadata": {
    "collapsed": false,
    "pycharm": {
     "name": "#%%\n"
    }
   },
   "outputs": [],
   "source": [
    "annotations = set()\n",
    "texts = list()\n",
    "\n",
    "# pick out the annotation files\n",
    "for file in files:\n",
    "    if 'DerivedMaterial' in as_list(file.type):\n",
    "        annotations.add(file)\n",
    "\n",
    "# from this annotations select only the CSVs\n",
    "\n",
    "for annotation in annotations:\n",
    "    if annotation.get('encodingFormat') == 'text/plain':\n",
    "        selected_file_json = annotation.as_jsonld()\n",
    "        texts.append(selected_file_json)\n",
    "\n",
    "\n",
    "print(f\"We have {len(texts)} text objects\")"
   ]
  },
  {
   "cell_type": "code",
   "execution_count": null,
   "metadata": {
    "collapsed": false,
    "pycharm": {
     "name": "#%%\n"
    }
   },
   "outputs": [],
   "source": [
    "text = texts[1:2]\n",
    "print(json.dumps(text, indent=2, sort_keys=False))"
   ]
  },
  {
   "cell_type": "markdown",
   "metadata": {
    "collapsed": false,
    "pycharm": {
     "name": "#%% md\n"
    }
   },
   "source": [
    "# Sample of one entry"
   ]
  },
  {
   "cell_type": "code",
   "execution_count": null,
   "metadata": {
    "collapsed": false,
    "pycharm": {
     "name": "#%%\n"
    }
   },
   "outputs": [],
   "source": [
    "url = text[0][\"@id\"]\n",
    "url"
   ]
  },
  {
   "cell_type": "markdown",
   "metadata": {
    "collapsed": false,
    "pycharm": {
     "name": "#%% md\n"
    }
   },
   "source": [
    "# Downloading a file from the ReST API"
   ]
  },
  {
   "cell_type": "code",
   "execution_count": null,
   "metadata": {
    "collapsed": false
   },
   "outputs": [],
   "source": [
    "import requests\n",
    "\n",
    "headers = {\"Authorization\": \"Bearer %s\" % API_TOKEN}\n",
    "response = requests.get(url=url, headers=headers)\n",
    "\n",
    "print(response.text)\n"
   ]
  }
 ],
 "metadata": {
  "description": "A sample notebook for the cooee data",
  "input": "arcp://name,doi10.26180%2F23961609",
  "kernelspec": {
   "display_name": "venv",
   "language": "python",
   "name": "venv"
  },
  "language_info": {
   "codemirror_mode": {
    "name": "ipython",
    "version": 3
   },
   "file_extension": ".py",
   "mimetype": "text/x-python",
   "name": "python",
   "nbconvert_exporter": "python",
   "pygments_lexer": "ipython3",
   "version": "3.9.12"
  },
  "title": "A COrpus of Oz Early English (COOEE) notebook"
 },
 "nbformat": 4,
 "nbformat_minor": 1
}
