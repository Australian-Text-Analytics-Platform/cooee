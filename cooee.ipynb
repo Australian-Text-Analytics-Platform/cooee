{
 "cells": [
  {
   "cell_type": "code",
   "execution_count": 1,
   "metadata": {
    "pycharm": {
     "name": "#%%\n"
    }
   },
   "outputs": [],
   "source": [
    "%%capture\n",
    "import sys\n",
    "!{sys.executable} -m pip install -r requirements.txt"
   ]
  },
  {
   "cell_type": "code",
   "execution_count": 2,
   "metadata": {
    "pycharm": {
     "name": "#%%\n"
    }
   },
   "outputs": [],
   "source": [
    "import json                       # json library to read json file formats\n",
    "import requests                   # Uses the requests library for REST apis\n",
    "import os                         # Loads operating system libraries\n",
    "from ldaca.ldaca import LDaCA     # Loads the LDaCA ReST api wrapper\n",
    "from rocrate_lang.utils import as_list # A handy utility for converting to list"
   ]
  },
  {
   "cell_type": "code",
   "execution_count": 3,
   "metadata": {
    "pycharm": {
     "name": "#%%\n"
    }
   },
   "outputs": [],
   "source": [
    "# Specify location where collection is\n",
    "LDACA_API = 'https://data.atap.edu.au/api'\n",
    "COLLECTION_ID = 'arcp://name,corpus-of-oz-early-english'\n",
    "\n",
    "from dotenv import load_dotenv    # loads environment variables\n",
    "load_dotenv('vars.env') # load the environment variables located in the vars.env files\n",
    "API_TOKEN = os.getenv('API_KEY') # store your environment variable in this jupyter notebook\n",
    "if not API_TOKEN:\n",
    "    print(\"Get a token from the portal, set a variable in the vars.env file named API_KEY, then restart the kernel.\")\n"
   ]
  },
  {
   "cell_type": "code",
   "execution_count": 4,
   "metadata": {
    "collapsed": false,
    "pycharm": {
     "name": "#%%\n"
    }
   },
   "outputs": [],
   "source": [
    "# Get the ro-crate metadata\n",
    "\n",
    "ldaca = LDaCA(url=LDACA_API, token=API_TOKEN, data_dir='data')\n",
    "ldaca.retrieve_collection(collection=COLLECTION_ID, collection_type='Collection', data_dir='data')\n"
   ]
  },
  {
   "cell_type": "code",
   "execution_count": 5,
   "metadata": {
    "collapsed": false,
    "pycharm": {
     "name": "#%%\n"
    }
   },
   "outputs": [
    {
     "data": {
      "text/plain": [
       "<rocrate_lang.rocrate_plus.ROCratePlus at 0x7fcfd0976700>"
      ]
     },
     "execution_count": 5,
     "metadata": {},
     "output_type": "execute_result"
    }
   ],
   "source": [
    "metadata = ldaca.crate\n",
    "\n",
    "# Inspect the metadata\n",
    "metadata"
   ]
  },
  {
   "cell_type": "code",
   "execution_count": 6,
   "metadata": {
    "collapsed": false,
    "pycharm": {
     "name": "#%%\n"
    }
   },
   "outputs": [],
   "source": [
    "# TYPE values should be lists.\n",
    "# We define a PRIMARY_OBJECT as a 'RepositoryObject' because that is where the main data is stored\n",
    "PRIMARY_OBJECT = 'RepositoryObject'"
   ]
  },
  {
   "cell_type": "code",
   "execution_count": 7,
   "metadata": {
    "collapsed": false,
    "pycharm": {
     "name": "#%%\n"
    }
   },
   "outputs": [],
   "source": [
    "# Find all types and find types that have linked objects\n",
    "files = set()\n",
    "types = list()\n",
    "primary_object_types = list()\n",
    "\n",
    "# Lets see what we can find in our metadata\n",
    "for entity in ldaca.crate.contextual_entities + ldaca.crate.data_entities:\n",
    "    entity_type = as_list(entity.type)  # We make sure that each type is a list\n",
    "    for e_t in entity_type:\n",
    "        types.append(e_t)\n"
   ]
  },
  {
   "cell_type": "code",
   "execution_count": 8,
   "metadata": {
    "collapsed": false,
    "pycharm": {
     "name": "#%%\n"
    }
   },
   "outputs": [
    {
     "data": {
      "text/plain": [
       "['Person',\n",
       " 'Book',\n",
       " 'OrganizationReuseLicense',\n",
       " 'RepositoryObject',\n",
       " 'PropertyValue',\n",
       " 'PersonSnapshot',\n",
       " 'DefinedTerm',\n",
       " 'PrimaryMaterial',\n",
       " 'Language',\n",
       " 'website',\n",
       " 'CreativeWork',\n",
       " 'GeoCoordinates',\n",
       " 'SoftwareSourceCode',\n",
       " 'CreateAction',\n",
       " 'File',\n",
       " 'Dataset',\n",
       " 'DerivedMaterial']"
      ]
     },
     "execution_count": 8,
     "metadata": {},
     "output_type": "execute_result"
    }
   ],
   "source": [
    "# Print the variables\n",
    "# All the types, removing duplicates\n",
    "list(dict.fromkeys(types))"
   ]
  },
  {
   "cell_type": "code",
   "execution_count": 9,
   "metadata": {
    "collapsed": false,
    "pycharm": {
     "name": "#%%\n"
    }
   },
   "outputs": [],
   "source": [
    "# Types of PRIMARY_OBJECTs ie [PRIMARY_OBJECT, X]. What kinds of Xs do we have?\n",
    "for entity in ldaca.crate.contextual_entities + ldaca.crate.data_entities:\n",
    "    if 'RepositoryObject' in as_list(entity.type):\n",
    "        item = ldaca.crate.dereference(entity.id)\n",
    "        primary_object_types.append(item.as_jsonld())"
   ]
  },
  {
   "cell_type": "code",
   "execution_count": 10,
   "metadata": {
    "collapsed": false,
    "pycharm": {
     "name": "#%%\n"
    }
   },
   "outputs": [
    {
     "data": {
      "text/html": [
       "<div>\n",
       "<style scoped>\n",
       "    .dataframe tbody tr th:only-of-type {\n",
       "        vertical-align: middle;\n",
       "    }\n",
       "\n",
       "    .dataframe tbody tr th {\n",
       "        vertical-align: top;\n",
       "    }\n",
       "\n",
       "    .dataframe thead th {\n",
       "        text-align: right;\n",
       "    }\n",
       "</style>\n",
       "<table border=\"1\" class=\"dataframe\">\n",
       "  <thead>\n",
       "    <tr style=\"text-align: right;\">\n",
       "      <th></th>\n",
       "      <th>@id</th>\n",
       "      <th>@type</th>\n",
       "      <th>name</th>\n",
       "      <th>dateCreated</th>\n",
       "      <th>hasPart</th>\n",
       "      <th>conformsTo.@id</th>\n",
       "      <th>author.@id</th>\n",
       "      <th>register.@id</th>\n",
       "      <th>linguisticGenre.@id</th>\n",
       "      <th>citation.@id</th>\n",
       "      <th>modality.@id</th>\n",
       "      <th>language.@id</th>\n",
       "      <th>indexableText.@id</th>\n",
       "      <th>@reverse.hasMember</th>\n",
       "    </tr>\n",
       "  </thead>\n",
       "  <tbody>\n",
       "    <tr>\n",
       "      <th>0</th>\n",
       "      <td>arcp://name,cooee-corpus/item/1-001</td>\n",
       "      <td>RepositoryObject</td>\n",
       "      <td>Text 1-001 1788 Phillip, Arthur</td>\n",
       "      <td>1788</td>\n",
       "      <td>[{'@id': 'https://data.atap.edu.au/api/stream?...</td>\n",
       "      <td>https://purl.archive.org/language-data-commons...</td>\n",
       "      <td>arcp://name,cooee-corpus/author/Phillip_Arthur...</td>\n",
       "      <td>#register_PrW</td>\n",
       "      <td>#register_PrW</td>\n",
       "      <td>arcp://name,cooee-corpus/work/Niall1998p10-11</td>\n",
       "      <td>https://purl.archive.org/language-data-commons...</td>\n",
       "      <td>https://glottolog.org/resource/languoid/id/sta...</td>\n",
       "      <td>https://data.atap.edu.au/api/stream?id=arcp://...</td>\n",
       "      <td>[{'@id': 'arcp://name,cooee-corpus/corpus/root...</td>\n",
       "    </tr>\n",
       "    <tr>\n",
       "      <th>1</th>\n",
       "      <td>arcp://name,cooee-corpus/item/1-002</td>\n",
       "      <td>RepositoryObject</td>\n",
       "      <td>Text 1-002 1788 Phillip, Arthur</td>\n",
       "      <td>1788</td>\n",
       "      <td>[{'@id': 'https://data.atap.edu.au/api/stream?...</td>\n",
       "      <td>https://purl.archive.org/language-data-commons...</td>\n",
       "      <td>arcp://name,cooee-corpus/author/Phillip_Arthur...</td>\n",
       "      <td>#register_GE</td>\n",
       "      <td>#register_GE</td>\n",
       "      <td>arcp://name,cooee-corpus/work/Niall1998p12-13</td>\n",
       "      <td>https://purl.archive.org/language-data-commons...</td>\n",
       "      <td>https://glottolog.org/resource/languoid/id/sta...</td>\n",
       "      <td>https://data.atap.edu.au/api/stream?id=arcp://...</td>\n",
       "      <td>[{'@id': 'arcp://name,cooee-corpus/corpus/root...</td>\n",
       "    </tr>\n",
       "    <tr>\n",
       "      <th>2</th>\n",
       "      <td>arcp://name,cooee-corpus/item/1-003</td>\n",
       "      <td>RepositoryObject</td>\n",
       "      <td>Text 1-003 1788 Phillip, Arthur</td>\n",
       "      <td>1788</td>\n",
       "      <td>[{'@id': 'https://data.atap.edu.au/api/stream?...</td>\n",
       "      <td>https://purl.archive.org/language-data-commons...</td>\n",
       "      <td>arcp://name,cooee-corpus/author/Phillip_Arthur...</td>\n",
       "      <td>#register_GE</td>\n",
       "      <td>#register_GE</td>\n",
       "      <td>arcp://name,cooee-corpus/work/Clark1977p44-46</td>\n",
       "      <td>https://purl.archive.org/language-data-commons...</td>\n",
       "      <td>https://glottolog.org/resource/languoid/id/sta...</td>\n",
       "      <td>https://data.atap.edu.au/api/stream?id=arcp://...</td>\n",
       "      <td>[{'@id': 'arcp://name,cooee-corpus/corpus/root...</td>\n",
       "    </tr>\n",
       "    <tr>\n",
       "      <th>3</th>\n",
       "      <td>arcp://name,cooee-corpus/item/1-004</td>\n",
       "      <td>RepositoryObject</td>\n",
       "      <td>Text 1-004 1788 Phillip, Arthur</td>\n",
       "      <td>1788</td>\n",
       "      <td>[{'@id': 'https://data.atap.edu.au/api/stream?...</td>\n",
       "      <td>https://purl.archive.org/language-data-commons...</td>\n",
       "      <td>arcp://name,cooee-corpus/author/Phillip_Arthur...</td>\n",
       "      <td>#register_GE</td>\n",
       "      <td>#register_GE</td>\n",
       "      <td>arcp://name,cooee-corpus/work/Clark1977p47-48</td>\n",
       "      <td>https://purl.archive.org/language-data-commons...</td>\n",
       "      <td>https://glottolog.org/resource/languoid/id/sta...</td>\n",
       "      <td>https://data.atap.edu.au/api/stream?id=arcp://...</td>\n",
       "      <td>[{'@id': 'arcp://name,cooee-corpus/corpus/root...</td>\n",
       "    </tr>\n",
       "    <tr>\n",
       "      <th>4</th>\n",
       "      <td>arcp://name,cooee-corpus/item/1-005</td>\n",
       "      <td>RepositoryObject</td>\n",
       "      <td>Text 1-005 1788 Phillip, Arthur</td>\n",
       "      <td>1788</td>\n",
       "      <td>[{'@id': 'https://data.atap.edu.au/api/stream?...</td>\n",
       "      <td>https://purl.archive.org/language-data-commons...</td>\n",
       "      <td>arcp://name,cooee-corpus/author/Phillip_Arthur...</td>\n",
       "      <td>#register_GE</td>\n",
       "      <td>#register_GE</td>\n",
       "      <td>arcp://name,cooee-corpus/work/Clark1977p52</td>\n",
       "      <td>https://purl.archive.org/language-data-commons...</td>\n",
       "      <td>https://glottolog.org/resource/languoid/id/sta...</td>\n",
       "      <td>https://data.atap.edu.au/api/stream?id=arcp://...</td>\n",
       "      <td>[{'@id': 'arcp://name,cooee-corpus/corpus/root...</td>\n",
       "    </tr>\n",
       "    <tr>\n",
       "      <th>...</th>\n",
       "      <td>...</td>\n",
       "      <td>...</td>\n",
       "      <td>...</td>\n",
       "      <td>...</td>\n",
       "      <td>...</td>\n",
       "      <td>...</td>\n",
       "      <td>...</td>\n",
       "      <td>...</td>\n",
       "      <td>...</td>\n",
       "      <td>...</td>\n",
       "      <td>...</td>\n",
       "      <td>...</td>\n",
       "      <td>...</td>\n",
       "      <td>...</td>\n",
       "    </tr>\n",
       "    <tr>\n",
       "      <th>1352</th>\n",
       "      <td>arcp://name,cooee-corpus/item/4-421</td>\n",
       "      <td>RepositoryObject</td>\n",
       "      <td>Text 4-421 1897 Turner, George</td>\n",
       "      <td>1897</td>\n",
       "      <td>[{'@id': 'https://data.atap.edu.au/api/stream?...</td>\n",
       "      <td>https://purl.archive.org/language-data-commons...</td>\n",
       "      <td>arcp://name,cooee-corpus/author/Turner_George-...</td>\n",
       "      <td>#register_SB</td>\n",
       "      <td>#register_SB</td>\n",
       "      <td>arcp://name,cooee-corpus/work/Federation_Debat...</td>\n",
       "      <td>https://purl.archive.org/language-data-commons...</td>\n",
       "      <td>https://glottolog.org/resource/languoid/id/sta...</td>\n",
       "      <td>https://data.atap.edu.au/api/stream?id=arcp://...</td>\n",
       "      <td>[{'@id': 'arcp://name,cooee-corpus/corpus/root...</td>\n",
       "    </tr>\n",
       "    <tr>\n",
       "      <th>1353</th>\n",
       "      <td>arcp://name,cooee-corpus/item/4-422</td>\n",
       "      <td>RepositoryObject</td>\n",
       "      <td>Text 4-422 1898 Lyne, William John</td>\n",
       "      <td>1898</td>\n",
       "      <td>[{'@id': 'https://data.atap.edu.au/api/stream?...</td>\n",
       "      <td>https://purl.archive.org/language-data-commons...</td>\n",
       "      <td>arcp://name,cooee-corpus/author/Lyne_William J...</td>\n",
       "      <td>#register_SB</td>\n",
       "      <td>#register_SB</td>\n",
       "      <td>arcp://name,cooee-corpus/work/Federation_Debat...</td>\n",
       "      <td>https://purl.archive.org/language-data-commons...</td>\n",
       "      <td>https://glottolog.org/resource/languoid/id/sta...</td>\n",
       "      <td>https://data.atap.edu.au/api/stream?id=arcp://...</td>\n",
       "      <td>[{'@id': 'arcp://name,cooee-corpus/corpus/root...</td>\n",
       "    </tr>\n",
       "    <tr>\n",
       "      <th>1354</th>\n",
       "      <td>arcp://name,cooee-corpus/item/4-423</td>\n",
       "      <td>RepositoryObject</td>\n",
       "      <td>Text 4-423 1898 Downer, John William</td>\n",
       "      <td>1898</td>\n",
       "      <td>[{'@id': 'https://data.atap.edu.au/api/stream?...</td>\n",
       "      <td>https://purl.archive.org/language-data-commons...</td>\n",
       "      <td>arcp://name,cooee-corpus/author/Downer_John Wi...</td>\n",
       "      <td>#register_SB</td>\n",
       "      <td>#register_SB</td>\n",
       "      <td>arcp://name,cooee-corpus/work/Federation_Debat...</td>\n",
       "      <td>https://purl.archive.org/language-data-commons...</td>\n",
       "      <td>https://glottolog.org/resource/languoid/id/sta...</td>\n",
       "      <td>https://data.atap.edu.au/api/stream?id=arcp://...</td>\n",
       "      <td>[{'@id': 'arcp://name,cooee-corpus/corpus/root...</td>\n",
       "    </tr>\n",
       "    <tr>\n",
       "      <th>1355</th>\n",
       "      <td>arcp://name,cooee-corpus/item/4-424</td>\n",
       "      <td>RepositoryObject</td>\n",
       "      <td>Text 4-424 1898 Kingston, Charles Cameron</td>\n",
       "      <td>1898</td>\n",
       "      <td>[{'@id': 'https://data.atap.edu.au/api/stream?...</td>\n",
       "      <td>https://purl.archive.org/language-data-commons...</td>\n",
       "      <td>arcp://name,cooee-corpus/author/Kingston_Charl...</td>\n",
       "      <td>#register_SB</td>\n",
       "      <td>#register_SB</td>\n",
       "      <td>arcp://name,cooee-corpus/work/Federation_Debat...</td>\n",
       "      <td>https://purl.archive.org/language-data-commons...</td>\n",
       "      <td>https://glottolog.org/resource/languoid/id/sta...</td>\n",
       "      <td>https://data.atap.edu.au/api/stream?id=arcp://...</td>\n",
       "      <td>[{'@id': 'arcp://name,cooee-corpus/corpus/root...</td>\n",
       "    </tr>\n",
       "    <tr>\n",
       "      <th>1356</th>\n",
       "      <td>arcp://name,cooee-corpus/item/4-425</td>\n",
       "      <td>RepositoryObject</td>\n",
       "      <td>Text 4-425 1895 Paterson, Andrew Barton</td>\n",
       "      <td>1895</td>\n",
       "      <td>[{'@id': 'https://data.atap.edu.au/api/stream?...</td>\n",
       "      <td>https://purl.archive.org/language-data-commons...</td>\n",
       "      <td>arcp://name,cooee-corpus/author/Paterson_Andre...</td>\n",
       "      <td>#register_PcW</td>\n",
       "      <td>#register_PcW</td>\n",
       "      <td>arcp://name,cooee-corpus/work/Paterson1895px</td>\n",
       "      <td>https://purl.archive.org/language-data-commons...</td>\n",
       "      <td>https://glottolog.org/resource/languoid/id/sta...</td>\n",
       "      <td>https://data.atap.edu.au/api/stream?id=arcp://...</td>\n",
       "      <td>[{'@id': 'arcp://name,cooee-corpus/corpus/root...</td>\n",
       "    </tr>\n",
       "  </tbody>\n",
       "</table>\n",
       "<p>1357 rows × 14 columns</p>\n",
       "</div>"
      ],
      "text/plain": [
       "                                      @id             @type  \\\n",
       "0     arcp://name,cooee-corpus/item/1-001  RepositoryObject   \n",
       "1     arcp://name,cooee-corpus/item/1-002  RepositoryObject   \n",
       "2     arcp://name,cooee-corpus/item/1-003  RepositoryObject   \n",
       "3     arcp://name,cooee-corpus/item/1-004  RepositoryObject   \n",
       "4     arcp://name,cooee-corpus/item/1-005  RepositoryObject   \n",
       "...                                   ...               ...   \n",
       "1352  arcp://name,cooee-corpus/item/4-421  RepositoryObject   \n",
       "1353  arcp://name,cooee-corpus/item/4-422  RepositoryObject   \n",
       "1354  arcp://name,cooee-corpus/item/4-423  RepositoryObject   \n",
       "1355  arcp://name,cooee-corpus/item/4-424  RepositoryObject   \n",
       "1356  arcp://name,cooee-corpus/item/4-425  RepositoryObject   \n",
       "\n",
       "                                           name dateCreated  \\\n",
       "0               Text 1-001 1788 Phillip, Arthur        1788   \n",
       "1               Text 1-002 1788 Phillip, Arthur        1788   \n",
       "2               Text 1-003 1788 Phillip, Arthur        1788   \n",
       "3               Text 1-004 1788 Phillip, Arthur        1788   \n",
       "4               Text 1-005 1788 Phillip, Arthur        1788   \n",
       "...                                         ...         ...   \n",
       "1352             Text 4-421 1897 Turner, George        1897   \n",
       "1353         Text 4-422 1898 Lyne, William John        1898   \n",
       "1354       Text 4-423 1898 Downer, John William        1898   \n",
       "1355  Text 4-424 1898 Kingston, Charles Cameron        1898   \n",
       "1356    Text 4-425 1895 Paterson, Andrew Barton        1895   \n",
       "\n",
       "                                                hasPart  \\\n",
       "0     [{'@id': 'https://data.atap.edu.au/api/stream?...   \n",
       "1     [{'@id': 'https://data.atap.edu.au/api/stream?...   \n",
       "2     [{'@id': 'https://data.atap.edu.au/api/stream?...   \n",
       "3     [{'@id': 'https://data.atap.edu.au/api/stream?...   \n",
       "4     [{'@id': 'https://data.atap.edu.au/api/stream?...   \n",
       "...                                                 ...   \n",
       "1352  [{'@id': 'https://data.atap.edu.au/api/stream?...   \n",
       "1353  [{'@id': 'https://data.atap.edu.au/api/stream?...   \n",
       "1354  [{'@id': 'https://data.atap.edu.au/api/stream?...   \n",
       "1355  [{'@id': 'https://data.atap.edu.au/api/stream?...   \n",
       "1356  [{'@id': 'https://data.atap.edu.au/api/stream?...   \n",
       "\n",
       "                                         conformsTo.@id  \\\n",
       "0     https://purl.archive.org/language-data-commons...   \n",
       "1     https://purl.archive.org/language-data-commons...   \n",
       "2     https://purl.archive.org/language-data-commons...   \n",
       "3     https://purl.archive.org/language-data-commons...   \n",
       "4     https://purl.archive.org/language-data-commons...   \n",
       "...                                                 ...   \n",
       "1352  https://purl.archive.org/language-data-commons...   \n",
       "1353  https://purl.archive.org/language-data-commons...   \n",
       "1354  https://purl.archive.org/language-data-commons...   \n",
       "1355  https://purl.archive.org/language-data-commons...   \n",
       "1356  https://purl.archive.org/language-data-commons...   \n",
       "\n",
       "                                             author.@id   register.@id  \\\n",
       "0     arcp://name,cooee-corpus/author/Phillip_Arthur...  #register_PrW   \n",
       "1     arcp://name,cooee-corpus/author/Phillip_Arthur...   #register_GE   \n",
       "2     arcp://name,cooee-corpus/author/Phillip_Arthur...   #register_GE   \n",
       "3     arcp://name,cooee-corpus/author/Phillip_Arthur...   #register_GE   \n",
       "4     arcp://name,cooee-corpus/author/Phillip_Arthur...   #register_GE   \n",
       "...                                                 ...            ...   \n",
       "1352  arcp://name,cooee-corpus/author/Turner_George-...   #register_SB   \n",
       "1353  arcp://name,cooee-corpus/author/Lyne_William J...   #register_SB   \n",
       "1354  arcp://name,cooee-corpus/author/Downer_John Wi...   #register_SB   \n",
       "1355  arcp://name,cooee-corpus/author/Kingston_Charl...   #register_SB   \n",
       "1356  arcp://name,cooee-corpus/author/Paterson_Andre...  #register_PcW   \n",
       "\n",
       "     linguisticGenre.@id                                       citation.@id  \\\n",
       "0          #register_PrW      arcp://name,cooee-corpus/work/Niall1998p10-11   \n",
       "1           #register_GE      arcp://name,cooee-corpus/work/Niall1998p12-13   \n",
       "2           #register_GE      arcp://name,cooee-corpus/work/Clark1977p44-46   \n",
       "3           #register_GE      arcp://name,cooee-corpus/work/Clark1977p47-48   \n",
       "4           #register_GE         arcp://name,cooee-corpus/work/Clark1977p52   \n",
       "...                  ...                                                ...   \n",
       "1352        #register_SB  arcp://name,cooee-corpus/work/Federation_Debat...   \n",
       "1353        #register_SB  arcp://name,cooee-corpus/work/Federation_Debat...   \n",
       "1354        #register_SB  arcp://name,cooee-corpus/work/Federation_Debat...   \n",
       "1355        #register_SB  arcp://name,cooee-corpus/work/Federation_Debat...   \n",
       "1356       #register_PcW       arcp://name,cooee-corpus/work/Paterson1895px   \n",
       "\n",
       "                                           modality.@id  \\\n",
       "0     https://purl.archive.org/language-data-commons...   \n",
       "1     https://purl.archive.org/language-data-commons...   \n",
       "2     https://purl.archive.org/language-data-commons...   \n",
       "3     https://purl.archive.org/language-data-commons...   \n",
       "4     https://purl.archive.org/language-data-commons...   \n",
       "...                                                 ...   \n",
       "1352  https://purl.archive.org/language-data-commons...   \n",
       "1353  https://purl.archive.org/language-data-commons...   \n",
       "1354  https://purl.archive.org/language-data-commons...   \n",
       "1355  https://purl.archive.org/language-data-commons...   \n",
       "1356  https://purl.archive.org/language-data-commons...   \n",
       "\n",
       "                                           language.@id  \\\n",
       "0     https://glottolog.org/resource/languoid/id/sta...   \n",
       "1     https://glottolog.org/resource/languoid/id/sta...   \n",
       "2     https://glottolog.org/resource/languoid/id/sta...   \n",
       "3     https://glottolog.org/resource/languoid/id/sta...   \n",
       "4     https://glottolog.org/resource/languoid/id/sta...   \n",
       "...                                                 ...   \n",
       "1352  https://glottolog.org/resource/languoid/id/sta...   \n",
       "1353  https://glottolog.org/resource/languoid/id/sta...   \n",
       "1354  https://glottolog.org/resource/languoid/id/sta...   \n",
       "1355  https://glottolog.org/resource/languoid/id/sta...   \n",
       "1356  https://glottolog.org/resource/languoid/id/sta...   \n",
       "\n",
       "                                      indexableText.@id  \\\n",
       "0     https://data.atap.edu.au/api/stream?id=arcp://...   \n",
       "1     https://data.atap.edu.au/api/stream?id=arcp://...   \n",
       "2     https://data.atap.edu.au/api/stream?id=arcp://...   \n",
       "3     https://data.atap.edu.au/api/stream?id=arcp://...   \n",
       "4     https://data.atap.edu.au/api/stream?id=arcp://...   \n",
       "...                                                 ...   \n",
       "1352  https://data.atap.edu.au/api/stream?id=arcp://...   \n",
       "1353  https://data.atap.edu.au/api/stream?id=arcp://...   \n",
       "1354  https://data.atap.edu.au/api/stream?id=arcp://...   \n",
       "1355  https://data.atap.edu.au/api/stream?id=arcp://...   \n",
       "1356  https://data.atap.edu.au/api/stream?id=arcp://...   \n",
       "\n",
       "                                     @reverse.hasMember  \n",
       "0     [{'@id': 'arcp://name,cooee-corpus/corpus/root...  \n",
       "1     [{'@id': 'arcp://name,cooee-corpus/corpus/root...  \n",
       "2     [{'@id': 'arcp://name,cooee-corpus/corpus/root...  \n",
       "3     [{'@id': 'arcp://name,cooee-corpus/corpus/root...  \n",
       "4     [{'@id': 'arcp://name,cooee-corpus/corpus/root...  \n",
       "...                                                 ...  \n",
       "1352  [{'@id': 'arcp://name,cooee-corpus/corpus/root...  \n",
       "1353  [{'@id': 'arcp://name,cooee-corpus/corpus/root...  \n",
       "1354  [{'@id': 'arcp://name,cooee-corpus/corpus/root...  \n",
       "1355  [{'@id': 'arcp://name,cooee-corpus/corpus/root...  \n",
       "1356  [{'@id': 'arcp://name,cooee-corpus/corpus/root...  \n",
       "\n",
       "[1357 rows x 14 columns]"
      ]
     },
     "execution_count": 10,
     "metadata": {},
     "output_type": "execute_result"
    }
   ],
   "source": [
    "import pandas as pd  # this means we will refer to pandas as 'pd' throughout the code\n",
    "\n",
    "primary_objects_dataframe = pd.json_normalize(primary_object_types)\n",
    "primary_objects_dataframe"
   ]
  },
  {
   "cell_type": "code",
   "execution_count": 11,
   "metadata": {
    "collapsed": false,
    "pycharm": {
     "name": "#%%\n"
    }
   },
   "outputs": [
    {
     "name": "stdout",
     "output_type": "stream",
     "text": [
      "2714 files\n"
     ]
    },
    {
     "data": {
      "text/plain": [
       "[<https://data.atap.edu.au/api/stream?id=arcp://name,cooee-corpus/corpus/root&path=data/4-008-plain.txt ['File', 'DerivedMaterial']>,\n",
       " <https://data.atap.edu.au/api/stream?id=arcp://name,cooee-corpus/corpus/root&path=data/3-301-plain.txt ['File', 'DerivedMaterial']>,\n",
       " <https://data.atap.edu.au/api/stream?id=arcp://name,cooee-corpus/corpus/root&path=data/4-337-plain.txt ['File', 'DerivedMaterial']>,\n",
       " <https://data.atap.edu.au/api/stream?id=arcp://name,cooee-corpus/corpus/root&path=data/3-108.txt ['File', 'DerivedMaterial']>,\n",
       " <https://data.atap.edu.au/api/stream?id=arcp://name,cooee-corpus/corpus/root&path=data/2-205-plain.txt ['File', 'DerivedMaterial']>,\n",
       " <https://data.atap.edu.au/api/stream?id=arcp://name,cooee-corpus/corpus/root&path=data/3-079-plain.txt ['File', 'DerivedMaterial']>,\n",
       " <https://data.atap.edu.au/api/stream?id=arcp://name,cooee-corpus/corpus/root&path=data/4-369-plain.txt ['File', 'DerivedMaterial']>,\n",
       " <https://data.atap.edu.au/api/stream?id=arcp://name,cooee-corpus/corpus/root&path=data/3-245-plain.txt ['File', 'DerivedMaterial']>,\n",
       " <https://data.atap.edu.au/api/stream?id=arcp://name,cooee-corpus/corpus/root&path=data/4-409-plain.txt ['File', 'DerivedMaterial']>,\n",
       " <https://data.atap.edu.au/api/stream?id=arcp://name,cooee-corpus/corpus/root&path=data/2-032.txt ['File', 'DerivedMaterial']>,\n",
       " <https://data.atap.edu.au/api/stream?id=arcp://name,cooee-corpus/corpus/root&path=data/1-234.txt ['File', 'DerivedMaterial']>,\n",
       " <https://data.atap.edu.au/api/stream?id=arcp://name,cooee-corpus/corpus/root&path=data/4-302-plain.txt ['File', 'DerivedMaterial']>,\n",
       " <https://data.atap.edu.au/api/stream?id=arcp://name,cooee-corpus/corpus/root&path=data/1-065-plain.txt ['File', 'DerivedMaterial']>,\n",
       " <https://data.atap.edu.au/api/stream?id=arcp://name,cooee-corpus/corpus/root&path=data/2-053-plain.txt ['File', 'DerivedMaterial']>,\n",
       " <https://data.atap.edu.au/api/stream?id=arcp://name,cooee-corpus/corpus/root&path=data/4-071-plain.txt ['File', 'DerivedMaterial']>,\n",
       " <https://data.atap.edu.au/api/stream?id=arcp://name,cooee-corpus/corpus/root&path=data/2-327.txt ['File', 'DerivedMaterial']>,\n",
       " <https://data.atap.edu.au/api/stream?id=arcp://name,cooee-corpus/corpus/root&path=data/1-235.txt ['File', 'DerivedMaterial']>,\n",
       " <https://data.atap.edu.au/api/stream?id=arcp://name,cooee-corpus/corpus/root&path=data/3-174-plain.txt ['File', 'DerivedMaterial']>,\n",
       " <https://data.atap.edu.au/api/stream?id=arcp://name,cooee-corpus/corpus/root&path=data/1-265.txt ['File', 'DerivedMaterial']>,\n",
       " <https://data.atap.edu.au/api/stream?id=arcp://name,cooee-corpus/corpus/root&path=data/3-309-plain.txt ['File', 'DerivedMaterial']>]"
      ]
     },
     "execution_count": 11,
     "metadata": {},
     "output_type": "execute_result"
    }
   ],
   "source": [
    "# Types of File that are in each primary object. What kinds of files do we have?\n",
    "for entity in primary_object_types:\n",
    "    if 'hasPart' in entity:\n",
    "        hasPart = entity.get('hasPart')\n",
    "        for part in as_list(hasPart):\n",
    "            file = ldaca.crate.dereference(part.get('@id'))\n",
    "            files.add(file)\n",
    "print(f\"{len(files)} files\")\n",
    "list(files)[:20]"
   ]
  },
  {
   "cell_type": "code",
   "execution_count": 12,
   "metadata": {
    "collapsed": false,
    "pycharm": {
     "name": "#%%\n"
    }
   },
   "outputs": [
    {
     "name": "stdout",
     "output_type": "stream",
     "text": [
      "We have 2714 text objects\n"
     ]
    }
   ],
   "source": [
    "annotations = set()\n",
    "texts = list()\n",
    "\n",
    "# pick out the annotation files\n",
    "for file in files:\n",
    "    if 'DerivedMaterial' in as_list(file.type):\n",
    "        annotations.add(file)\n",
    "\n",
    "# from this annotations select only the CSVs\n",
    "\n",
    "for annotation in annotations:\n",
    "    if annotation.get('encodingFormat') == 'text/plain':\n",
    "        selected_file_json = annotation.as_jsonld()\n",
    "        texts.append(selected_file_json)\n",
    "\n",
    "\n",
    "print(f\"We have {len(texts)} text objects\")"
   ]
  },
  {
   "cell_type": "code",
   "execution_count": 13,
   "metadata": {
    "collapsed": false,
    "pycharm": {
     "name": "#%%\n"
    }
   },
   "outputs": [
    {
     "name": "stdout",
     "output_type": "stream",
     "text": [
      "[\n",
      "  {\n",
      "    \"@id\": \"https://data.atap.edu.au/api/stream?id=arcp://name,cooee-corpus/corpus/root&path=data/3-301-plain.txt\",\n",
      "    \"@type\": [\n",
      "      \"File\",\n",
      "      \"DerivedMaterial\"\n",
      "    ],\n",
      "    \"name\": \"Text 3-301 1874 Randell, G. - text\",\n",
      "    \"annotationOf\": {\n",
      "      \"@id\": \"arcp://name,cooee-corpus/work/Warburton1875p305-06\"\n",
      "    },\n",
      "    \"modality\": {\n",
      "      \"@id\": \"https://purl.archive.org/language-data-commons/terms#WrittenLanguage\"\n",
      "    },\n",
      "    \"language\": {\n",
      "      \"@id\": \"https://glottolog.org/resource/languoid/id/stan1293\"\n",
      "    },\n",
      "    \"encodingFormat\": \"text/plain\",\n",
      "    \"size\": 1365,\n",
      "    \"@reverse\": {\n",
      "      \"hasPart\": [\n",
      "        {\n",
      "          \"@id\": \"arcp://name,cooee-corpus/corpus/root/\"\n",
      "        },\n",
      "        {\n",
      "          \"@id\": \"arcp://name,cooee-corpus/item/3-301\"\n",
      "        }\n",
      "      ],\n",
      "      \"indexableText\": [\n",
      "        {\n",
      "          \"@id\": \"arcp://name,cooee-corpus/item/3-301\"\n",
      "        }\n",
      "      ]\n",
      "    }\n",
      "  }\n",
      "]\n"
     ]
    }
   ],
   "source": [
    "text = texts[1:2]\n",
    "print(json.dumps(text, indent=2, sort_keys=False))"
   ]
  },
  {
   "cell_type": "markdown",
   "metadata": {
    "collapsed": false,
    "pycharm": {
     "name": "#%% md\n"
    }
   },
   "source": [
    "# Sample of one entry"
   ]
  },
  {
   "cell_type": "code",
   "execution_count": 14,
   "metadata": {
    "collapsed": false,
    "pycharm": {
     "name": "#%%\n"
    }
   },
   "outputs": [
    {
     "data": {
      "text/plain": [
       "'https://data.atap.edu.au/api/stream?id=arcp://name,cooee-corpus/corpus/root&path=data/3-301-plain.txt'"
      ]
     },
     "execution_count": 14,
     "metadata": {},
     "output_type": "execute_result"
    }
   ],
   "source": [
    "url = text[0][\"@id\"]\n",
    "url"
   ]
  },
  {
   "cell_type": "markdown",
   "metadata": {
    "collapsed": false,
    "pycharm": {
     "name": "#%% md\n"
    }
   },
   "source": [
    "# Downloading a file from the ReST API"
   ]
  },
  {
   "cell_type": "code",
   "execution_count": 15,
   "metadata": {
    "collapsed": false
   },
   "outputs": [
    {
     "name": "stdout",
     "output_type": "stream",
     "text": [
      "\n",
      "\n",
      "\n",
      "To Colonel Peter Egerton Warburton., Leader of the South Australian Exploring Expedition.\n",
      "SIR, - We the Council and Burgesses of the city of Perth congratulate you on the successful termination of your enterprise. The brave spirit which animated Captain Roe, the Gregorys, and Austin, on our side of the continent, equally impelled Oxley, Sturt, Mitchell, Leichhardt, Stuart, and yourself on its eastern side. The results to civilization have been vast, and, purchased with much suffering, have placed your names in the front rank of benefactors to mankind. Last on the list, it must be cheering to you to know that, under Divine Providence having accomplished the difficult and hazardous undertaking entrusted to you, you have thus prepared the way for future explorers still further to disclose to us the characteristics and resources of our island continent. We feel pride in being the first representatives of an Australian city to express to you their thanks and admiration of the energy, skill, and prudence you have displayed in the cause of exploration.  We would also record our gratitude to God, Who has preserved the lives of yourself and brave companions through all the perils of the way, and thus enabled us to give you our hearty greeting to-day.\n",
      "On behalf of the Council and Burgesses of Perth,\n",
      "G. RANDELL,\n",
      "Chairman of Perth Municipality.\n"
     ]
    }
   ],
   "source": [
    "import requests\n",
    "\n",
    "headers = {\"Authorization\": \"Bearer %s\" % API_TOKEN}\n",
    "response = requests.get(url=url, headers=headers)\n",
    "\n",
    "print(response.text)\n"
   ]
  }
 ],
 "metadata": {
  "description": "A sample notebook for the cooee data",
  "input": "arcp://name,cooee-corpus/corpus/root",
  "kernelspec": {
   "display_name": "venv",
   "language": "python",
   "name": "venv"
  },
  "language_info": {
   "codemirror_mode": {
    "name": "ipython",
    "version": 3
   },
   "file_extension": ".py",
   "mimetype": "text/x-python",
   "name": "python",
   "nbconvert_exporter": "python",
   "pygments_lexer": "ipython3",
   "version": "3.9.12"
  },
  "title": "cooee notebook"
 },
 "nbformat": 4,
 "nbformat_minor": 1
}
